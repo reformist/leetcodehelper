{
 "cells": [
  {
   "cell_type": "code",
   "execution_count": 10,
   "metadata": {},
   "outputs": [],
   "source": [
    "# import statements\n",
    "from leetscrape import GetQuestionsList, GetQuestion, GenerateCodeStub, ExtractSolutions"
   ]
  },
  {
   "cell_type": "code",
   "execution_count": 21,
   "metadata": {},
   "outputs": [
    {
     "name": "stdout",
     "output_type": "stream",
     "text": [
      "Scraping companies ... Done\n",
      "Scraping questions list ... Done\n",
      "Extracting question topics ... Done\n",
      "Getting Categories ... Done\n",
      "Scraping Topic Tags ... Done\n",
      "Extracting question category ... Done\n"
     ]
    }
   ],
   "source": [
    "ls = GetQuestionsList()\n",
    "ls.scrape() # Scrape the list of questions\n",
    "ls.questions.head() # Get the list of questions\n",
    "\n",
    "ls.to_csv(directory=\"files/\")"
   ]
  },
  {
   "cell_type": "code",
   "execution_count": 16,
   "metadata": {},
   "outputs": [
    {
     "name": "stdout",
     "output_type": "stream",
     "text": [
      "<p>Given an array of integers <code>nums</code>&nbsp;and an integer <code>target</code>, return <em>indices of the two numbers such that they add up to <code>target</code></em>.</p>\n",
      "\n",
      "<p>You may assume that each input would have <strong><em>exactly</em> one solution</strong>, and you may not use the <em>same</em> element twice.</p>\n",
      "\n",
      "<p>You can return the answer in any order.</p>\n",
      "\n",
      "<p>&nbsp;</p>\n",
      "<p><strong class=\"example\">Example 1:</strong></p>\n",
      "\n",
      "<pre>\n",
      "<strong>Input:</strong> nums = [2,7,11,15], target = 9\n",
      "<strong>Output:</strong> [0,1]\n",
      "<strong>Explanation:</strong> Because nums[0] + nums[1] == 9, we return [0, 1].\n",
      "</pre>\n",
      "\n",
      "<p><strong class=\"example\">Example 2:</strong></p>\n",
      "\n",
      "<pre>\n",
      "<strong>Input:</strong> nums = [3,2,4], target = 6\n",
      "<strong>Output:</strong> [1,2]\n",
      "</pre>\n",
      "\n",
      "<p><strong class=\"example\">Example 3:</strong></p>\n",
      "\n",
      "<pre>\n",
      "<strong>Input:</strong> nums = [3,3], target = 6\n",
      "<strong>Output:</strong> [0,1]\n",
      "</pre>\n",
      "\n",
      "<p>&nbsp;</p>\n",
      "<p><strong>Constraints:</strong></p>\n",
      "\n",
      "<ul>\n",
      "\t<li><code>2 &lt;= nums.length &lt;= 10<sup>4</sup></code></li>\n",
      "\t<li><code>-10<sup>9</sup> &lt;= nums[i] &lt;= 10<sup>9</sup></code></li>\n",
      "\t<li><code>-10<sup>9</sup> &lt;= target &lt;= 10<sup>9</sup></code></li>\n",
      "\t<li><strong>Only one valid answer exists.</strong></li>\n",
      "</ul>\n",
      "\n",
      "<p>&nbsp;</p>\n",
      "<strong>Follow-up:&nbsp;</strong>Can you come up with an algorithm that is less than <code>O(n<sup>2</sup>)</code><font face=\"monospace\">&nbsp;</font>time complexity?\n"
     ]
    }
   ],
   "source": [
    "# Get the question body\n",
    "question = GetQuestion(titleSlug=\"two-sum\").scrape()\n",
    "\n",
    "description = question.Body\n",
    "print(description)\n",
    "\n",
    "# this is printed with HTML tags, could just extract them later"
   ]
  },
  {
   "cell_type": "code",
   "execution_count": 17,
   "metadata": {},
   "outputs": [
    {
     "name": "stdout",
     "output_type": "stream",
     "text": [
      "Generating code stub for 1. two-sum\n",
      "Code stub save to q_0001_twoSum.py\n",
      "Test file written to test_q_0001_twoSum.py.py\n"
     ]
    }
   ],
   "source": [
    "# Get the question body\n",
    "fcs = GenerateCodeStub(titleSlug=\"two-sum\")\n",
    "# fcs.generate(directory=\"<dir>\")\n",
    "fcs.generate(directory=\"files/\")"
   ]
  },
  {
   "cell_type": "code",
   "execution_count": 20,
   "metadata": {},
   "outputs": [
    {
     "name": "stdout",
     "output_type": "stream",
     "text": [
      "[1.\n",
      "    def twoSum(self, nums: List[int], target: int) -> List[int]:\n",
      "        pass\n",
      "\n",
      "]\n"
     ]
    }
   ],
   "source": [
    "# THIS IS ONLY ONCE WE HAVE SOLVED THE SOLUTION OURSELVES\n",
    "'''\n",
    "filename= \"files/q_0001_twoSum.py\"\n",
    "solutions = ExtractSolutions(filename=filename).extract()\n",
    "print(solutions)\n",
    "'''"
   ]
  }
 ],
 "metadata": {
  "kernelspec": {
   "display_name": "leetcode",
   "language": "python",
   "name": "python3"
  },
  "language_info": {
   "codemirror_mode": {
    "name": "ipython",
    "version": 3
   },
   "file_extension": ".py",
   "mimetype": "text/x-python",
   "name": "python",
   "nbconvert_exporter": "python",
   "pygments_lexer": "ipython3",
   "version": "3.11.7"
  }
 },
 "nbformat": 4,
 "nbformat_minor": 2
}
